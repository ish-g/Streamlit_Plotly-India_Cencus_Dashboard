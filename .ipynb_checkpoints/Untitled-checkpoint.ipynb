{
 "cells": [
  {
   "cell_type": "code",
   "execution_count": 3,
   "id": "feeca9e8-aa1a-43f9-9bb0-79785a3ad29d",
   "metadata": {},
   "outputs": [],
   "source": [
    "import pandas as pd\n",
    "import numpy as np\n",
    "import plotly.express as px\n",
    "import matplotlib.pyplot as plt\n",
    "import seaborn as sns"
   ]
  },
  {
   "cell_type": "code",
   "execution_count": 13,
   "id": "7f63e07e-b89e-4c98-90f0-557d49d528c4",
   "metadata": {},
   "outputs": [],
   "source": [
    "df = pd.read_csv('india_main.csv')"
   ]
  },
  {
   "cell_type": "code",
   "execution_count": 14,
   "id": "6ccbc4d4-1517-4d0c-8cd9-156edb6fe928",
   "metadata": {},
   "outputs": [],
   "source": [
    "df.drop(columns=['District name', 'District code', 'State name'], inplace=True)"
   ]
  },
  {
   "cell_type": "code",
   "execution_count": 16,
   "id": "ba0ba4ac-2fbc-4e21-9701-3fa79d8376e7",
   "metadata": {},
   "outputs": [
    {
     "name": "stdout",
     "output_type": "stream",
     "text": [
      "<class 'pandas.core.frame.DataFrame'>\n",
      "RangeIndex: 517 entries, 0 to 516\n",
      "Data columns (total 26 columns):\n",
      " #   Column                         Non-Null Count  Dtype  \n",
      "---  ------                         --------------  -----  \n",
      " 0   State                          517 non-null    object \n",
      " 1   District                       517 non-null    object \n",
      " 2   Latitude                       517 non-null    float64\n",
      " 3   Longitude                      517 non-null    float64\n",
      " 4   Male                           517 non-null    int64  \n",
      " 5   Female                         517 non-null    int64  \n",
      " 6   Population                     517 non-null    int64  \n",
      " 7   Literate                       517 non-null    int64  \n",
      " 8   Male_Literate                  517 non-null    int64  \n",
      " 9   Female_Literate                517 non-null    int64  \n",
      " 10  Workers                        517 non-null    int64  \n",
      " 11  Agricultural_Workers           517 non-null    int64  \n",
      " 12  Household_Workers              517 non-null    int64  \n",
      " 13  Hindus                         517 non-null    int64  \n",
      " 14  Muslims                        517 non-null    int64  \n",
      " 15  Christians                     517 non-null    int64  \n",
      " 16  Sikhs                          517 non-null    int64  \n",
      " 17  Buddhists                      517 non-null    int64  \n",
      " 18  Jains                          517 non-null    int64  \n",
      " 19  Literate_Education             517 non-null    int64  \n",
      " 20  Illiterate_Education           517 non-null    int64  \n",
      " 21  Age_Group_0_29                 517 non-null    int64  \n",
      " 22  Age_Group_30_49                517 non-null    int64  \n",
      " 23  Age_Group_50                   517 non-null    int64  \n",
      " 24  No. of females per 1000 males  517 non-null    float64\n",
      " 25  Literacy_ratio                 517 non-null    float64\n",
      "dtypes: float64(4), int64(20), object(2)\n",
      "memory usage: 105.1+ KB\n"
     ]
    }
   ],
   "source": [
    "df.info()"
   ]
  },
  {
   "cell_type": "code",
   "execution_count": 26,
   "id": "18d0df29-7f3e-467b-968d-30cce6ddd6c4",
   "metadata": {},
   "outputs": [
    {
     "ename": "NameError",
     "evalue": "name 'primary' is not defined",
     "output_type": "error",
     "traceback": [
      "\u001b[1;31m---------------------------------------------------------------------------\u001b[0m",
      "\u001b[1;31mNameError\u001b[0m                                 Traceback (most recent call last)",
      "Cell \u001b[1;32mIn[26], line 2\u001b[0m\n\u001b[0;32m      1\u001b[0m px\u001b[38;5;241m.\u001b[39mscatter_mapbox(df, lat\u001b[38;5;241m=\u001b[39m\u001b[38;5;124m'\u001b[39m\u001b[38;5;124mLatitude\u001b[39m\u001b[38;5;124m'\u001b[39m, lon\u001b[38;5;241m=\u001b[39m\u001b[38;5;124m'\u001b[39m\u001b[38;5;124mLongitude\u001b[39m\u001b[38;5;124m'\u001b[39m, zoom\u001b[38;5;241m=\u001b[39m\u001b[38;5;241m4\u001b[39m,\n\u001b[1;32m----> 2\u001b[0m                                 size\u001b[38;5;241m=\u001b[39m\u001b[43mprimary\u001b[49m, color\u001b[38;5;241m=\u001b[39msecondary, size_max\u001b[38;5;241m=\u001b[39m\u001b[38;5;241m35\u001b[39m, hover_name\u001b[38;5;241m=\u001b[39m\u001b[38;5;124m'\u001b[39m\u001b[38;5;124mDistrict\u001b[39m\u001b[38;5;124m'\u001b[39m,\n\u001b[0;32m      3\u001b[0m                                 mapbox_style\u001b[38;5;241m=\u001b[39m\u001b[38;5;124m'\u001b[39m\u001b[38;5;124mcarto-positron\u001b[39m\u001b[38;5;124m'\u001b[39m, width\u001b[38;5;241m=\u001b[39m\u001b[38;5;241m1200\u001b[39m, height\u001b[38;5;241m=\u001b[39m\u001b[38;5;241m700\u001b[39m, color_continuous_scale\u001b[38;5;241m=\u001b[39m\u001b[38;5;124m'\u001b[39m\u001b[38;5;124mRainbow\u001b[39m\u001b[38;5;124m'\u001b[39m)\n",
      "\u001b[1;31mNameError\u001b[0m: name 'primary' is not defined"
     ]
    }
   ],
   "source": [
    "px.scatter_mapbox(df, lat='Latitude', lon='Longitude', zoom=4,\n",
    "                                size='Workers', color='Worker', size_max=35, hover_name='District',\n",
    "                                mapbox_style='carto-positron', width=1200, height=700, color_continuous_scale='Rainbow')"
   ]
  },
  {
   "cell_type": "code",
   "execution_count": null,
   "id": "4dfa7b51-8450-4bf1-88c7-4d525cbc0923",
   "metadata": {},
   "outputs": [],
   "source": []
  }
 ],
 "metadata": {
  "kernelspec": {
   "display_name": "Python 3 (ipykernel)",
   "language": "python",
   "name": "python3"
  },
  "language_info": {
   "codemirror_mode": {
    "name": "ipython",
    "version": 3
   },
   "file_extension": ".py",
   "mimetype": "text/x-python",
   "name": "python",
   "nbconvert_exporter": "python",
   "pygments_lexer": "ipython3",
   "version": "3.11.4"
  }
 },
 "nbformat": 4,
 "nbformat_minor": 5
}
